{
  "nbformat": 4,
  "nbformat_minor": 0,
  "metadata": {
    "colab": {
      "name": "pcap.ipynb",
      "provenance": []
    },
    "kernelspec": {
      "name": "python3",
      "display_name": "Python 3"
    },
    "accelerator": "GPU"
  },
  "cells": [
    {
      "cell_type": "code",
      "metadata": {
        "id": "ziNEJ1XxLP3-",
        "colab_type": "code",
        "colab": {}
      },
      "source": [
        "import functools\n",
        "import numpy as np\n",
        "import tensorflow as tf\n",
        "import pandas as pd\n",
        "\n",
        "from pydrive.auth import GoogleAuth\n",
        "from pydrive.drive import GoogleDrive\n",
        "from google.colab import auth\n",
        "from oauth2client.client import GoogleCredentials\n",
        "\n",
        "from __future__ import absolute_import, division, print_function, unicode_literals\n",
        "from tensorflow import feature_column\n",
        "from tensorflow.keras import layers\n",
        "from sklearn.model_selection import train_test_split\n",
        "from tensorflow import keras\n"
      ],
      "execution_count": 0,
      "outputs": []
    },
    {
      "cell_type": "code",
      "metadata": {
        "id": "3Jt_ZrPaG9GY",
        "colab_type": "code",
        "colab": {
          "base_uri": "https://localhost:8080/",
          "height": 275
        },
        "outputId": "3c6bc86e-cb1f-4851-ac7c-6b7e24d6d560"
      },
      "source": [
        "!pip install PyDrive\n",
        "!pip install -q sklearn"
      ],
      "execution_count": 29,
      "outputs": [
        {
          "output_type": "stream",
          "text": [
            "Requirement already satisfied: PyDrive in /usr/local/lib/python3.6/dist-packages (1.3.1)\n",
            "Requirement already satisfied: oauth2client>=4.0.0 in /usr/local/lib/python3.6/dist-packages (from PyDrive) (4.1.3)\n",
            "Requirement already satisfied: PyYAML>=3.0 in /usr/local/lib/python3.6/dist-packages (from PyDrive) (3.13)\n",
            "Requirement already satisfied: google-api-python-client>=1.2 in /usr/local/lib/python3.6/dist-packages (from PyDrive) (1.7.12)\n",
            "Requirement already satisfied: six>=1.6.1 in /usr/local/lib/python3.6/dist-packages (from oauth2client>=4.0.0->PyDrive) (1.12.0)\n",
            "Requirement already satisfied: httplib2>=0.9.1 in /usr/local/lib/python3.6/dist-packages (from oauth2client>=4.0.0->PyDrive) (0.17.3)\n",
            "Requirement already satisfied: rsa>=3.1.4 in /usr/local/lib/python3.6/dist-packages (from oauth2client>=4.0.0->PyDrive) (4.0)\n",
            "Requirement already satisfied: pyasn1-modules>=0.0.5 in /usr/local/lib/python3.6/dist-packages (from oauth2client>=4.0.0->PyDrive) (0.2.8)\n",
            "Requirement already satisfied: pyasn1>=0.1.7 in /usr/local/lib/python3.6/dist-packages (from oauth2client>=4.0.0->PyDrive) (0.4.8)\n",
            "Requirement already satisfied: uritemplate<4dev,>=3.0.0 in /usr/local/lib/python3.6/dist-packages (from google-api-python-client>=1.2->PyDrive) (3.0.1)\n",
            "Requirement already satisfied: google-auth-httplib2>=0.0.3 in /usr/local/lib/python3.6/dist-packages (from google-api-python-client>=1.2->PyDrive) (0.0.3)\n",
            "Requirement already satisfied: google-auth>=1.4.1 in /usr/local/lib/python3.6/dist-packages (from google-api-python-client>=1.2->PyDrive) (1.7.2)\n",
            "Requirement already satisfied: setuptools>=40.3.0 in /usr/local/lib/python3.6/dist-packages (from google-auth>=1.4.1->google-api-python-client>=1.2->PyDrive) (46.3.0)\n",
            "Requirement already satisfied: cachetools<3.2,>=2.0.0 in /usr/local/lib/python3.6/dist-packages (from google-auth>=1.4.1->google-api-python-client>=1.2->PyDrive) (3.1.1)\n"
          ],
          "name": "stdout"
        }
      ]
    },
    {
      "cell_type": "code",
      "metadata": {
        "id": "Y9hs2sNeHJyG",
        "colab_type": "code",
        "colab": {}
      },
      "source": [
        "auth.authenticate_user()\n",
        "gauth = GoogleAuth()\n",
        "gauth.credentials = GoogleCredentials.get_application_default()\n",
        "drive = GoogleDrive(gauth)"
      ],
      "execution_count": 0,
      "outputs": []
    },
    {
      "cell_type": "code",
      "metadata": {
        "id": "Lb8xAI8dHO61",
        "colab_type": "code",
        "colab": {}
      },
      "source": [
        "downloaded = drive.CreateFile({'id':\"13ZY_0SNWrQXtezuR1g29kTGOfz2_adgw\"})   # replace the id with id of file you want to access\n",
        "downloaded.GetContentFile('attack.csv')        # replace the file name with your file\n",
        "downloaded = drive.CreateFile({'id':\"1Phl_o0tXYZ0A-_cdILOm32-rMB-w1B66\"})   # replace the id with id of file you want to access\n",
        "downloaded.GetContentFile('benign.csv')"
      ],
      "execution_count": 0,
      "outputs": []
    },
    {
      "cell_type": "code",
      "metadata": {
        "id": "saoU1-xVLhkh",
        "colab_type": "code",
        "colab": {
          "base_uri": "https://localhost:8080/",
          "height": 204
        },
        "outputId": "d0e02448-393a-476a-a4c6-3fdc3a7d51a5"
      },
      "source": [
        "benignData = pd.read_csv('benign.csv',encoding='utf-8-sig')\n",
        "attackData = pd.read_csv('attack.csv',encoding='utf-8-sig')\n",
        "attackData.columns = ['protocol', 'duration', 'packetSize', 'tcp flags', 'ack', 'length']\n",
        "benignData.columns = ['protocol', 'duration', 'packetSize', 'tcp flags', 'ack', 'length']\n",
        "attackData.head()"
      ],
      "execution_count": 32,
      "outputs": [
        {
          "output_type": "execute_result",
          "data": {
            "text/html": [
              "<div>\n",
              "<style scoped>\n",
              "    .dataframe tbody tr th:only-of-type {\n",
              "        vertical-align: middle;\n",
              "    }\n",
              "\n",
              "    .dataframe tbody tr th {\n",
              "        vertical-align: top;\n",
              "    }\n",
              "\n",
              "    .dataframe thead th {\n",
              "        text-align: right;\n",
              "    }\n",
              "</style>\n",
              "<table border=\"1\" class=\"dataframe\">\n",
              "  <thead>\n",
              "    <tr style=\"text-align: right;\">\n",
              "      <th></th>\n",
              "      <th>protocol</th>\n",
              "      <th>duration</th>\n",
              "      <th>packetSize</th>\n",
              "      <th>tcp flags</th>\n",
              "      <th>ack</th>\n",
              "      <th>length</th>\n",
              "    </tr>\n",
              "  </thead>\n",
              "  <tbody>\n",
              "    <tr>\n",
              "      <th>0</th>\n",
              "      <td>TCP</td>\n",
              "      <td>0.010782</td>\n",
              "      <td>54</td>\n",
              "      <td>0x00000010</td>\n",
              "      <td>1</td>\n",
              "      <td>0</td>\n",
              "    </tr>\n",
              "    <tr>\n",
              "      <th>1</th>\n",
              "      <td>TCP</td>\n",
              "      <td>0.005140</td>\n",
              "      <td>66</td>\n",
              "      <td>0x00000002</td>\n",
              "      <td>0</td>\n",
              "      <td>0</td>\n",
              "    </tr>\n",
              "    <tr>\n",
              "      <th>2</th>\n",
              "      <td>TCP</td>\n",
              "      <td>0.003052</td>\n",
              "      <td>66</td>\n",
              "      <td>0x00000002</td>\n",
              "      <td>0</td>\n",
              "      <td>0</td>\n",
              "    </tr>\n",
              "    <tr>\n",
              "      <th>3</th>\n",
              "      <td>TCP</td>\n",
              "      <td>0.000556</td>\n",
              "      <td>66</td>\n",
              "      <td>0x00000002</td>\n",
              "      <td>0</td>\n",
              "      <td>0</td>\n",
              "    </tr>\n",
              "    <tr>\n",
              "      <th>4</th>\n",
              "      <td>HTTP</td>\n",
              "      <td>0.000242</td>\n",
              "      <td>74</td>\n",
              "      <td>0x00000018</td>\n",
              "      <td>1</td>\n",
              "      <td>20</td>\n",
              "    </tr>\n",
              "  </tbody>\n",
              "</table>\n",
              "</div>"
            ],
            "text/plain": [
              "  protocol  duration  packetSize   tcp flags  ack  length\n",
              "0      TCP  0.010782          54  0x00000010    1       0\n",
              "1      TCP  0.005140          66  0x00000002    0       0\n",
              "2      TCP  0.003052          66  0x00000002    0       0\n",
              "3      TCP  0.000556          66  0x00000002    0       0\n",
              "4     HTTP  0.000242          74  0x00000018    1      20"
            ]
          },
          "metadata": {
            "tags": []
          },
          "execution_count": 32
        }
      ]
    },
    {
      "cell_type": "code",
      "metadata": {
        "id": "TM3OsfDSMGGi",
        "colab_type": "code",
        "colab": {
          "base_uri": "https://localhost:8080/",
          "height": 221
        },
        "outputId": "2d5a75d3-fe52-4075-f1e2-08b5b5e885ca"
      },
      "source": [
        "attackData['isAttack'] = 1\n",
        "benignData['isAttack']=0\n",
        "attackData.pop('tcp flags') # drop unnessary column\n",
        "benignData.pop('tcp flags')"
      ],
      "execution_count": 33,
      "outputs": [
        {
          "output_type": "execute_result",
          "data": {
            "text/plain": [
              "0         0x00000010\n",
              "1         0x00000018\n",
              "2         0x00000010\n",
              "3         0x00000010\n",
              "4         0x00000010\n",
              "             ...    \n",
              "137391    0x00000010\n",
              "137392    0x00000018\n",
              "137393    0x00000018\n",
              "137394    0x00000010\n",
              "137395    0x00000010\n",
              "Name: tcp flags, Length: 137396, dtype: object"
            ]
          },
          "metadata": {
            "tags": []
          },
          "execution_count": 33
        }
      ]
    },
    {
      "cell_type": "code",
      "metadata": {
        "id": "DKGmX1oLMNsz",
        "colab_type": "code",
        "colab": {
          "base_uri": "https://localhost:8080/",
          "height": 68
        },
        "outputId": "861a9b51-d8dc-4c63-ad17-5ce8d4e06438"
      },
      "source": [
        "comb=pd.concat([benignData, attackData], axis=0)\n",
        "##comb.shuffle()\n",
        "train, test = train_test_split(comb, test_size=0.2)\n",
        "train, val = train_test_split(train, test_size=0.2)\n",
        "print(len(train), '훈련 샘플')\n",
        "print(len(val), '검증 샘플')\n",
        "print(len(test), '테스트 샘플')"
      ],
      "execution_count": 34,
      "outputs": [
        {
          "output_type": "stream",
          "text": [
            "88422 훈련 샘플\n",
            "22106 검증 샘플\n",
            "27632 테스트 샘플\n"
          ],
          "name": "stdout"
        }
      ]
    },
    {
      "cell_type": "code",
      "metadata": {
        "id": "y8GPP7pdMQDD",
        "colab_type": "code",
        "colab": {
          "base_uri": "https://localhost:8080/",
          "height": 204
        },
        "outputId": "2f78ab97-38a3-4167-8c35-e10ce26680ac"
      },
      "source": [
        "Output=comb['isAttack']\n",
        "#comb=comb.drop(['Out'],axis=1)\n",
        "#comb.pop('tcp.flags')\n",
        "\n",
        "comb.head()"
      ],
      "execution_count": 35,
      "outputs": [
        {
          "output_type": "execute_result",
          "data": {
            "text/html": [
              "<div>\n",
              "<style scoped>\n",
              "    .dataframe tbody tr th:only-of-type {\n",
              "        vertical-align: middle;\n",
              "    }\n",
              "\n",
              "    .dataframe tbody tr th {\n",
              "        vertical-align: top;\n",
              "    }\n",
              "\n",
              "    .dataframe thead th {\n",
              "        text-align: right;\n",
              "    }\n",
              "</style>\n",
              "<table border=\"1\" class=\"dataframe\">\n",
              "  <thead>\n",
              "    <tr style=\"text-align: right;\">\n",
              "      <th></th>\n",
              "      <th>protocol</th>\n",
              "      <th>duration</th>\n",
              "      <th>packetSize</th>\n",
              "      <th>ack</th>\n",
              "      <th>length</th>\n",
              "      <th>isAttack</th>\n",
              "    </tr>\n",
              "  </thead>\n",
              "  <tbody>\n",
              "    <tr>\n",
              "      <th>0</th>\n",
              "      <td>TCP</td>\n",
              "      <td>0.000000</td>\n",
              "      <td>1498</td>\n",
              "      <td>1.0</td>\n",
              "      <td>1388.0</td>\n",
              "      <td>0</td>\n",
              "    </tr>\n",
              "    <tr>\n",
              "      <th>1</th>\n",
              "      <td>TCP</td>\n",
              "      <td>0.000144</td>\n",
              "      <td>140</td>\n",
              "      <td>1.0</td>\n",
              "      <td>30.0</td>\n",
              "      <td>0</td>\n",
              "    </tr>\n",
              "    <tr>\n",
              "      <th>2</th>\n",
              "      <td>TCP</td>\n",
              "      <td>0.000083</td>\n",
              "      <td>1502</td>\n",
              "      <td>1.0</td>\n",
              "      <td>1388.0</td>\n",
              "      <td>0</td>\n",
              "    </tr>\n",
              "    <tr>\n",
              "      <th>3</th>\n",
              "      <td>TCP</td>\n",
              "      <td>0.000538</td>\n",
              "      <td>1498</td>\n",
              "      <td>1.0</td>\n",
              "      <td>1388.0</td>\n",
              "      <td>0</td>\n",
              "    </tr>\n",
              "    <tr>\n",
              "      <th>4</th>\n",
              "      <td>TCP</td>\n",
              "      <td>0.000075</td>\n",
              "      <td>1502</td>\n",
              "      <td>1.0</td>\n",
              "      <td>1388.0</td>\n",
              "      <td>0</td>\n",
              "    </tr>\n",
              "  </tbody>\n",
              "</table>\n",
              "</div>"
            ],
            "text/plain": [
              "  protocol  duration  packetSize  ack  length  isAttack\n",
              "0      TCP  0.000000        1498  1.0  1388.0         0\n",
              "1      TCP  0.000144         140  1.0    30.0         0\n",
              "2      TCP  0.000083        1502  1.0  1388.0         0\n",
              "3      TCP  0.000538        1498  1.0  1388.0         0\n",
              "4      TCP  0.000075        1502  1.0  1388.0         0"
            ]
          },
          "metadata": {
            "tags": []
          },
          "execution_count": 35
        }
      ]
    },
    {
      "cell_type": "code",
      "metadata": {
        "id": "lteahv8EurLN",
        "colab_type": "code",
        "colab": {
          "base_uri": "https://localhost:8080/",
          "height": 265
        },
        "outputId": "9bf8fe64-4184-4973-9a1e-30b14499af46"
      },
      "source": [
        "benignData = benignData.dropna()\n",
        "#benignData['protocol'].value_counts().plot(kind='pie')\n",
        "tresh = 100\n",
        "a = benignData['protocol'].value_counts()\n",
        "b = a[a > tresh]\n",
        "b['Others'] = a[a <= tresh].sum()\n",
        "b.plot.pie()"
      ],
      "execution_count": 36,
      "outputs": [
        {
          "output_type": "execute_result",
          "data": {
            "text/plain": [
              "<matplotlib.axes._subplots.AxesSubplot at 0x7f1432278f28>"
            ]
          },
          "metadata": {
            "tags": []
          },
          "execution_count": 36
        },
        {
          "output_type": "display_data",
          "data": {
            "image/png": "[encoded data removed]",
            "text/plain": [
              "<Figure size 432x288 with 1 Axes>"
            ]
          },
          "metadata": {
            "tags": []
          }
        }
      ]
    },
    {
      "cell_type": "code",
      "metadata": {
        "id": "NAxjUwm_vGo5",
        "colab_type": "code",
        "colab": {
          "base_uri": "https://localhost:8080/",
          "height": 265
        },
        "outputId": "34fe2896-572d-4ec3-d0ec-1be21aef22cf"
      },
      "source": [
        "#attackData = attackData.dropna()\n",
        "\n",
        "tresh = 50\n",
        "a = attackData['protocol'].value_counts()\n",
        "b = a[a > tresh]\n",
        "b['Others'] = a[a <= tresh].sum()\n",
        "b.plot.pie()\n",
        "\n",
        "#attackData['protocol'].plot.pie(subplots=True, figsize=(10,5), autopct='%.2f', fontsize=10, labeldistance=None);\n",
        "#attackData['protocol'].value_counts().plot(kind='pie')\n"
      ],
      "execution_count": 37,
      "outputs": [
        {
          "output_type": "execute_result",
          "data": {
            "text/plain": [
              "<matplotlib.axes._subplots.AxesSubplot at 0x7f1432265978>"
            ]
          },
          "metadata": {
            "tags": []
          },
          "execution_count": 37
        },
        {
          "output_type": "display_data",
          "data": {
            "image/png": "[encoded data removed]",
            "text/plain": [
              "<Figure size 432x288 with 1 Axes>"
            ]
          },
          "metadata": {
            "tags": []
          }
        }
      ]
    },
    {
      "cell_type": "code",
      "metadata": {
        "id": "bnqtIUSf4NvK",
        "colab_type": "code",
        "colab": {
          "base_uri": "https://localhost:8080/",
          "height": 391
        },
        "outputId": "ae5d7409-a3ff-4912-faeb-d034ab72bf03"
      },
      "source": [
        "import matplotlib.ticker as mtick\n",
        "from matplotlib.ticker import FuncFormatter\n",
        "import matplotlib.pyplot as plt\n",
        "#ax = attackData['packetSize'].plot()\n",
        "#fig, ax = plt.subplots(figsize=(8,6))\n",
        "#bp = comb['packetSize'].plot(kind='kde', ax=ax)\n",
        "\n",
        "fig, ax = plt.subplots(figsize=(8,6))\n",
        "for label, df in comb.groupby('isAttack'):\n",
        "    df['packetSize'].plot(kind=\"kde\", ax=ax, label=label)\n",
        "plt.legend()"
      ],
      "execution_count": 38,
      "outputs": [
        {
          "output_type": "execute_result",
          "data": {
            "text/plain": [
              "<matplotlib.legend.Legend at 0x7f14322654e0>"
            ]
          },
          "metadata": {
            "tags": []
          },
          "execution_count": 38
        },
        {
          "output_type": "display_data",
          "data": {
            "image/png": "[encoded data removed]",
            "text/plain": [
              "<Figure size 576x432 with 1 Axes>"
            ]
          },
          "metadata": {
            "tags": [],
            "needs_background": "light"
          }
        }
      ]
    },
    {
      "cell_type": "code",
      "metadata": {
        "id": "3_3tD7Ja_uhU",
        "colab_type": "code",
        "colab": {
          "base_uri": "https://localhost:8080/",
          "height": 296
        },
        "outputId": "6d400fc4-ebde-4329-d4db-46052701cb8b"
      },
      "source": [
        "benignData['cdf'] = benignData['packetSize'].rank(method = 'average', pct = True)\n",
        "benignData.plot(x = 'packetSize', y = ['cdf'], grid = True)"
      ],
      "execution_count": 39,
      "outputs": [
        {
          "output_type": "execute_result",
          "data": {
            "text/plain": [
              "<matplotlib.axes._subplots.AxesSubplot at 0x7f143216c748>"
            ]
          },
          "metadata": {
            "tags": []
          },
          "execution_count": 39
        },
        {
          "output_type": "display_data",
          "data": {
            "image/png": "[encoded data removed]",
            "text/plain": [
              "<Figure size 432x288 with 1 Axes>"
            ]
          },
          "metadata": {
            "tags": [],
            "needs_background": "light"
          }
        }
      ]
    },
    {
      "cell_type": "code",
      "metadata": {
        "id": "MFRfZr8ICS3d",
        "colab_type": "code",
        "colab": {
          "base_uri": "https://localhost:8080/",
          "height": 298
        },
        "outputId": "b7fb26bc-ca30-48e1-aba7-eff280dc7704"
      },
      "source": [
        "attackData['cdf'] = attackData['packetSize'].rank(pct = True)\n",
        "attackData.plot(x = 'packetSize', y = ['cdf'], grid = True)"
      ],
      "execution_count": 40,
      "outputs": [
        {
          "output_type": "execute_result",
          "data": {
            "text/plain": [
              "<matplotlib.axes._subplots.AxesSubplot at 0x7f143216d080>"
            ]
          },
          "metadata": {
            "tags": []
          },
          "execution_count": 40
        },
        {
          "output_type": "display_data",
          "data": {
            "image/png": "[encoded data removed]",
            "text/plain": [
              "<Figure size 432x288 with 1 Axes>"
            ]
          },
          "metadata": {
            "tags": [],
            "needs_background": "light"
          }
        }
      ]
    },
    {
      "cell_type": "code",
      "metadata": {
        "id": "mYkGMbUZF2C7",
        "colab_type": "code",
        "colab": {
          "base_uri": "https://localhost:8080/",
          "height": 296
        },
        "outputId": "49d2366a-6ac5-47a6-cda6-d25d4f38824a"
      },
      "source": [
        "attackData['cdf'] = attackData['duration'].rank(pct = True)\n",
        "attackData.plot(x = 'duration', y = ['cdf'], grid = True)"
      ],
      "execution_count": 41,
      "outputs": [
        {
          "output_type": "execute_result",
          "data": {
            "text/plain": [
              "<matplotlib.axes._subplots.AxesSubplot at 0x7f1432093320>"
            ]
          },
          "metadata": {
            "tags": []
          },
          "execution_count": 41
        },
        {
          "output_type": "display_data",
          "data": {
            "image/png": "[encoded data removed]",
            "text/plain": [
              "<Figure size 432x288 with 1 Axes>"
            ]
          },
          "metadata": {
            "tags": [],
            "needs_background": "light"
          }
        }
      ]
    },
    {
      "cell_type": "code",
      "metadata": {
        "id": "M1hGGzhEF_6p",
        "colab_type": "code",
        "colab": {
          "base_uri": "https://localhost:8080/",
          "height": 296
        },
        "outputId": "cb3c4d09-ab68-4525-9717-23714252296d"
      },
      "source": [
        "comb['attack'] = comb[comb['isAttack'] == 1 ]['duration'].rank(method='average', pct = True)\n",
        "comb['benign'] = comb[comb['isAttack'] == 0 ]['duration'].rank(method='average',pct = True)\n",
        "comb.plot(x = 'duration', y = ['attack', 'benign'], grid = True)"
      ],
      "execution_count": 44,
      "outputs": [
        {
          "output_type": "execute_result",
          "data": {
            "text/plain": [
              "<matplotlib.axes._subplots.AxesSubplot at 0x7f1431ec7390>"
            ]
          },
          "metadata": {
            "tags": []
          },
          "execution_count": 44
        },
        {
          "output_type": "display_data",
          "data": {
            "image/png": "[encoded data removed]",
            "text/plain": [
              "<Figure size 432x288 with 1 Axes>"
            ]
          },
          "metadata": {
            "tags": [],
            "needs_background": "light"
          }
        }
      ]
    },
    {
      "cell_type": "code",
      "metadata": {
        "id": "QCNMRoPUaXVs",
        "colab_type": "code",
        "colab": {}
      },
      "source": [
        "# 판다스 데이터프레임으로부터 tf.data 데이터셋을 만들기 위한 함수\n",
        "def df_to_dataset(dataframe, shuffle=True, batch_size=32):\n",
        "  dataframe = dataframe.copy()\n",
        "  labels = dataframe.pop('Out')\n",
        "  ds = tf.data.Dataset.from_tensor_slices((dict(dataframe), labels))\n",
        "  if shuffle:\n",
        "    ds = ds.shuffle(buffer_size=len(dataframe))\n",
        "  ds = ds.batch(batch_size)\n",
        "  return ds"
      ],
      "execution_count": 0,
      "outputs": []
    },
    {
      "cell_type": "code",
      "metadata": {
        "id": "9B50t6DrriDP",
        "colab_type": "code",
        "colab": {}
      },
      "source": [
        "class CategoricalTruePositives(keras.metrics.Metric):\n",
        "\n",
        "    def __init__(self, name='categorical_true_positives', **kwargs):\n",
        "      super(CategoricalTruePositives, self).__init__(name=name, **kwargs)\n",
        "      self.true_positives = self.add_weight(name='tp', initializer='zeros')\n",
        "\n",
        "    def update_state(self, y_true, y_pred, sample_weight=None):\n",
        "      y_pred = tf.reshape(tf.argmax(y_pred, axis=1), shape=(-1, 1))\n",
        "      values = tf.cast(y_true, 'int32') == tf.cast(y_pred, 'int32')\n",
        "      values = tf.cast(values, 'float32')\n",
        "      if sample_weight is not None:\n",
        "        sample_weight = tf.cast(sample_weight, 'float32')\n",
        "        values = tf.multiply(values, sample_weight)\n",
        "      self.true_positives.assign_add(tf.reduce_sum(values))\n",
        "\n",
        "    def result(self):\n",
        "      return self.true_positives\n",
        "\n",
        "    def reset_states(self):\n",
        "      # The state of the metric will be reset at the start of each epoch.\n",
        "      self.true_positives.assign(0.)"
      ],
      "execution_count": 0,
      "outputs": []
    },
    {
      "cell_type": "code",
      "metadata": {
        "id": "_EaHZ9_7abo1",
        "colab_type": "code",
        "colab": {}
      },
      "source": [
        "\n",
        "batch_size = 35 # A small batch sized is used for demonstration purposes\n",
        "train_ds = df_to_dataset(train, batch_size=batch_size)\n",
        "val_ds = df_to_dataset(val, shuffle=False, batch_size=batch_size)\n",
        "test_ds = df_to_dataset(test, shuffle=False, batch_size=batch_size)\n",
        "\n",
        "duration = feature_column.numeric_column(\"duration\")\n",
        "\n",
        "feature_columns = []\n",
        "feature_layer_inputs = {}\n",
        "# numeric cols\n",
        "for header in ['duration', 'packetSize', 'ack', 'length']:\n",
        "  feature_columns.append(feature_column.numeric_column(header))\n",
        "  feature_layer_inputs[header] = tf.keras.Input(shape=(1,), name=header)\n",
        "\n",
        "# bucketized cols\n",
        "duration_buckets = feature_column.bucketized_column(duration, boundaries=[0,1])\n",
        "feature_columns.append(duration_buckets)\n",
        "\n",
        "# indicator cols\n",
        "protocol = feature_column.categorical_column_with_vocabulary_list(\n",
        "      'protocol', ['TCP', 'UDP','TLS', 'ICMP', 'ARP', 'DNS', 'HTTP', 'SSH'])\n",
        "protocol_one_hot = feature_column.indicator_column(protocol)\n",
        "feature_columns.append(protocol_one_hot)\n",
        "feature_layer_inputs['protocol'] = tf.keras.Input(shape=(1,), name='protocol', dtype=tf.string)\n",
        "\n",
        "# embedding cols\n",
        "protocol_embedding = feature_column.embedding_column(protocol, dimension=8)\n",
        "feature_columns.append(protocol_embedding)\n",
        "\n",
        "# crossed cols\n",
        "crossed_feature = feature_column.crossed_column([duration_buckets , protocol], hash_bucket_size=1000)\n",
        "crossed_feature = feature_column.indicator_column(crossed_feature)\n",
        "feature_columns.append(crossed_feature)\n",
        "\n",
        "batch_size = 32\n",
        "train_ds = df_to_dataset(train, batch_size=batch_size)\n",
        "val_ds = df_to_dataset(val, shuffle=False, batch_size=batch_size)\n",
        "test_ds = df_to_dataset(test, shuffle=False, batch_size=batch_size)\n",
        "\n",
        "feature_layer = tf.keras.layers.DenseFeatures(feature_columns)\n",
        "feature_layer_outputs = feature_layer(feature_layer_inputs)\n",
        "\n",
        "x = layers.Dense(128, activation='relu')(feature_layer_outputs)\n",
        "x = layers.Dense(64, activation='relu')(x)\n",
        "\n",
        "baggage_pred = layers.Dense(1, activation='sigmoid')(x)\n",
        "\n",
        "model = keras.Model(inputs=[v for v in feature_layer_inputs.values()], outputs=baggage_pred)\n"
      ],
      "execution_count": 0,
      "outputs": []
    },
    {
      "cell_type": "code",
      "metadata": {
        "id": "LC9NakIjssdh",
        "colab_type": "code",
        "colab": {
          "base_uri": "https://localhost:8080/",
          "height": 224
        },
        "outputId": "a447e718-e223-4ffe-a740-ae373f88a736"
      },
      "source": [
        "model.compile(optimizer=keras.optimizers.RMSprop(learning_rate=1e-3),\n",
        "              loss='binary_crossentropy',\n",
        "             metrics=['accuracy'])\n",
        "\n",
        "model.fit(train_ds,\n",
        "          validation_data=val_ds,\n",
        "          epochs=5)"
      ],
      "execution_count": 45,
      "outputs": [
        {
          "output_type": "stream",
          "text": [
            "Epoch 1/5\n",
            "2764/2764 [==============================] - 15s 5ms/step - loss: 0.0343 - accuracy: 0.9945 - val_loss: 0.0347 - val_accuracy: 0.9944\n",
            "Epoch 2/5\n",
            "2764/2764 [==============================] - 15s 5ms/step - loss: 0.0343 - accuracy: 0.9945 - val_loss: 0.0348 - val_accuracy: 0.9944\n",
            "Epoch 3/5\n",
            "2764/2764 [==============================] - 15s 6ms/step - loss: 0.0343 - accuracy: 0.9945 - val_loss: 0.0347 - val_accuracy: 0.9944\n",
            "Epoch 4/5\n",
            "2764/2764 [==============================] - 15s 6ms/step - loss: 0.0343 - accuracy: 0.9945 - val_loss: 0.0349 - val_accuracy: 0.9944\n",
            "Epoch 5/5\n",
            "2764/2764 [==============================] - 16s 6ms/step - loss: 0.0343 - accuracy: 0.9945 - val_loss: 0.0348 - val_accuracy: 0.9944\n"
          ],
          "name": "stdout"
        },
        {
          "output_type": "execute_result",
          "data": {
            "text/plain": [
              "<tensorflow.python.keras.callbacks.History at 0x7f1431fb9390>"
            ]
          },
          "metadata": {
            "tags": []
          },
          "execution_count": 45
        }
      ]
    },
    {
      "cell_type": "code",
      "metadata": {
        "id": "jM35czvAqaV9",
        "colab_type": "code",
        "colab": {}
      },
      "source": [
        ""
      ],
      "execution_count": 0,
      "outputs": []
    }
  ]
}